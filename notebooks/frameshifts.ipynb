{
 "cells": [
  {
   "cell_type": "code",
   "execution_count": null,
   "id": "7f4736a4-7f84-4059-80dd-5eb9dd8e0699",
   "metadata": {},
   "outputs": [],
   "source": [
    "# investigate programed frameshifts currently in CHESS\n",
    "# find all transcripts where a single exon contains more than 1 CDS\n",
    "# check if there are any transcripts at those genes which do not include a frameshift and see if require correction\n",
    "# prepare a list for further testing"
   ]
  },
  {
   "cell_type": "code",
   "execution_count": 1,
   "id": "17c8bb82-178d-437a-bdcd-cbbda1a9a513",
   "metadata": {},
   "outputs": [],
   "source": [
    "# main imports\n",
    "import os\n",
    "import sys\n",
    "import csv\n",
    "import glob\n",
    "import math\n",
    "import shutil\n",
    "import random\n",
    "import importlib\n",
    "import subprocess\n",
    "\n",
    "import numpy as np\n",
    "import pandas as pd\n",
    "\n",
    "pd.set_option('display.max_columns', None)\n",
    "pd.set_option('display.max_colwidth', 50)"
   ]
  },
  {
   "cell_type": "code",
   "execution_count": 2,
   "id": "9d3495d2-19f1-47f9-867c-869f6fdf59ce",
   "metadata": {},
   "outputs": [],
   "source": [
    "%load_ext autoreload\n",
    "%autoreload 1\n",
    "\n",
    "sys.path.insert(0, \"/ccb/salz4-4/avaraby/orfanage/soft\")\n",
    "%aimport definitions"
   ]
  },
  {
   "cell_type": "code",
   "execution_count": null,
   "id": "f2fb7f27-29bb-493b-a6a7-f2558a6904f9",
   "metadata": {},
   "outputs": [],
   "source": [
    "# data\n",
    "ref_fasta = \"/home/avaraby1/genomes/human/hg38/hg38_p12_ucsc.fa\"\n",
    "# input_gtf = \"../data/CHS.10005.10.gtf\"\n",
    "# outbase = \"../tmp/CHS.10005.10.adj_stop\"\n",
    "input_gtf = \"../data/chess_github_clone/chess3.0.1.gtf\"\n",
    "outbase = \"../tmp/chess3.0.1.adj_stop\"\n",
    "\n",
    "is_gff = definitions.gtf_or_gff(input_gtf)==\"gff\""
   ]
  }
 ],
 "metadata": {
  "kernelspec": {
   "display_name": "Python 3 (ipykernel)",
   "language": "python",
   "name": "python3"
  },
  "language_info": {
   "codemirror_mode": {
    "name": "ipython",
    "version": 3
   },
   "file_extension": ".py",
   "mimetype": "text/x-python",
   "name": "python",
   "nbconvert_exporter": "python",
   "pygments_lexer": "ipython3",
   "version": "3.11.7"
  }
 },
 "nbformat": 4,
 "nbformat_minor": 5
}
