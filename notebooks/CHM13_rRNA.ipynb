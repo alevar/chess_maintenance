{
 "cells": [
  {
   "cell_type": "code",
   "execution_count": null,
   "id": "7a4ad41c-1298-4f35-a6dd-bee7e6fd820c",
   "metadata": {},
   "outputs": [],
   "source": [
    "# pull rRNAs over from the RefSeq annotation to CHESS\n",
    "# assign new chess IDs to each of them, keeping original IDs "
   ]
  },
  {
   "cell_type": "code",
   "execution_count": 11,
   "id": "b94387c6-08b6-4ba7-852a-552bd590d3d8",
   "metadata": {},
   "outputs": [],
   "source": [
    "# main imports\n",
    "import os\n",
    "import sys\n",
    "import csv\n",
    "import glob\n",
    "import math\n",
    "import shutil\n",
    "import random\n",
    "import importlib\n",
    "import subprocess\n",
    "\n",
    "import numpy as np\n",
    "import pandas as pd\n",
    "\n",
    "pd.set_option('display.max_columns', None)\n",
    "pd.set_option('display.max_colwidth', 50)"
   ]
  },
  {
   "cell_type": "code",
   "execution_count": 12,
   "id": "a1eccd73-b6a3-441f-9069-430baa4d9bd7",
   "metadata": {},
   "outputs": [
    {
     "name": "stdout",
     "output_type": "stream",
     "text": [
      "The autoreload extension is already loaded. To reload it, use:\n",
      "  %reload_ext autoreload\n"
     ]
    }
   ],
   "source": [
    "%load_ext autoreload\n",
    "%autoreload 1\n",
    "\n",
    "sys.path.insert(0, \"/ccb/salz4-4/avaraby/orfanage/soft\")\n",
    "%aimport definitions"
   ]
  },
  {
   "cell_type": "code",
   "execution_count": 3,
   "id": "26889daa-bc98-433e-8738-ee50b43038a4",
   "metadata": {},
   "outputs": [],
   "source": [
    "# data\n",
    "ref_fasta = \"/home/avaraby1/genomes/human/hg38/hg38_p12_ucsc.fa\"\n",
    "input_gtf = \"/ccb/salz8-1/avaraby/chess_maintenance_scripts/tmp/chess3.0.1.CHM13.fix_dup_gid.adj_stop.corrected.gffread.gtf\"\n",
    "outbase = \"../tmp/chess3.1.1.CHM13.fix_rRNA\"\n",
    "refseq_gtf = \"/ccb/salz2-1/dpuiu/Homo_sapiens/T2T/chm13v2.0_RefSeq_Liftoff_v5.1.gff3\""
   ]
  },
  {
   "cell_type": "code",
   "execution_count": 4,
   "id": "2bb599be-4bd9-40b0-ba63-fc113bd1ec0f",
   "metadata": {},
   "outputs": [
    {
     "data": {
      "text/plain": [
       "179183"
      ]
     },
     "execution_count": 4,
     "metadata": {},
     "output_type": "execute_result"
    }
   ],
   "source": [
    "# get maximum gene_id from the current annotation\n",
    "max_gid = 0\n",
    "with open(input_gtf,\"r\") as inFP:\n",
    "    for line in inFP:\n",
    "        lcs = line.split(\"\\t\")\n",
    "        if not len(lcs) == 9:\n",
    "            continue\n",
    "\n",
    "        if not lcs[2]==\"transcript\":\n",
    "            continue\n",
    "\n",
    "        tid = lcs[8].split(\"transcript_id \\\"\",1)[1].split(\"\\\"\",1)[0]\n",
    "        try:\n",
    "            gid = int(tid.split(\".\")[1])\n",
    "            max_gid = max(max_gid,gid)\n",
    "        except:\n",
    "            continue\n",
    "max_gid"
   ]
  },
  {
   "cell_type": "code",
   "execution_count": 5,
   "id": "8fed9916-9f96-4775-a96c-bb62ff1b539a",
   "metadata": {},
   "outputs": [],
   "source": [
    "# run gffread conversion of the gff3 to gtf\n",
    "cmd = [\"gffread\",\"-T\",\"-F\",\"-o\",\"../tmp/refseq.gtf\",refseq_gtf]\n",
    "subprocess.call(cmd)\n",
    "refseq_gtf = \"../tmp/refseq.gtf\""
   ]
  },
  {
   "cell_type": "code",
   "execution_count": 6,
   "id": "bc426ed6-2ead-43ef-ba11-4d1a0c7c6eb4",
   "metadata": {},
   "outputs": [
    {
     "name": "stdout",
     "output_type": "stream",
     "text": [
      "982\n"
     ]
    }
   ],
   "source": [
    "# load all tids along with gene_biotype and isolate\n",
    "tid2type_chs = definitions.get_attribute(input_gtf,[\"gene_id\",\"gene_biotype\",\"transcript_biotype\",\"gbkey\",\"gene_name\"],cols=[0])\n",
    "rrna_tids_chs = set(tid2type_chs[\n",
    "                                ~(tid2type_chs[0]==\"chrM\")&\\\n",
    "                                (\n",
    "                                    (tid2type_chs[\"gene_biotype\"]==\"rRNA\")|\\\n",
    "                                    (tid2type_chs[\"transcript_biotype\"]==\"rRNA\")|\\\n",
    "                                    (tid2type_chs[\"gbkey\"]==\"rRNA\")\n",
    "                                )][\"tid\"])\n",
    "print(len(rrna_tids_chs))"
   ]
  },
  {
   "cell_type": "code",
   "execution_count": 7,
   "id": "11c55f4c-6b2b-4fcc-ab71-9aa4d1e4226b",
   "metadata": {},
   "outputs": [
    {
     "name": "stdout",
     "output_type": "stream",
     "text": [
      "982\n"
     ]
    }
   ],
   "source": [
    "tid2type_ref = definitions.get_attribute(refseq_gtf,[\"gene_biotype\",\"gene_name\",\"gene_id\"])\n",
    "rrna_tids_ref = set(tid2type_ref[tid2type_ref[\"gene_biotype\"]==\"rRNA\"][\"tid\"])\n",
    "print(len(rrna_tids_ref))"
   ]
  },
  {
   "cell_type": "code",
   "execution_count": 8,
   "id": "5f64708a-73b8-42c8-8f1f-15b8590538b0",
   "metadata": {},
   "outputs": [],
   "source": [
    "# construct map of transcript IDs to new gene and transcript IDs for the refseq rRNAs\n",
    "\n",
    "gidmap = dict() # old gene ID mapping to a tuple where 1st element is the new gid and 2nd element is the next available tid\n",
    "tidmap = dict() # old transcript ID mapping to a tuyple where 1st element is the new gid and 2nd element is the newly assigned tid\n",
    "\n",
    "with open(refseq_gtf,\"r\") as inFP:\n",
    "    for line in inFP:\n",
    "        lcs = line.split(\"\\t\")\n",
    "        if not len(lcs) == 9:\n",
    "            continue\n",
    "\n",
    "        if not lcs[2]==\"transcript\":\n",
    "            continue\n",
    "\n",
    "        tid = lcs[8].split(\"transcript_id \\\"\",1)[1].split(\"\\\"\",1)[0]\n",
    "        gid = lcs[8].split(\"gene_id \\\"\",1)[1].split(\"\\\"\",1)[0]\n",
    "        \n",
    "        new_gid = None\n",
    "        new_tid = None\n",
    "\n",
    "        if tid in rrna_tids_ref:\n",
    "            if gid in gidmap:\n",
    "                new_gid = gidmap[gid][0]\n",
    "                new_tid = gidmap[gid][1]\n",
    "                gidmap[gid][1]+=1\n",
    "            else:\n",
    "                max_gid+=1\n",
    "                new_gid = max_gid\n",
    "                new_tid = 0\n",
    "                gidmap[gid] = [new_gid,new_tid+1]\n",
    "        else:\n",
    "            continue\n",
    "\n",
    "        assert new_gid is not None\n",
    "        assert new_tid is not None\n",
    "        tidmap[tid] = (new_gid,new_tid)"
   ]
  },
  {
   "cell_type": "code",
   "execution_count": 9,
   "id": "e88e1404-a274-4f91-a9c0-a62cf4bfc5d7",
   "metadata": {
    "scrolled": true
   },
   "outputs": [],
   "source": [
    "# we should assign transcript and gene IDs to these transcripts\n",
    "\n",
    "with open(outbase+\".gtf\",\"w+\") as outFP:\n",
    "    # first write out everything in chess that is not rRNA\n",
    "    with open(input_gtf,\"r\") as inFP:\n",
    "        for line in inFP:\n",
    "            lcs = line.split(\"\\t\")\n",
    "            if not len(lcs) == 9:\n",
    "                continue\n",
    "    \n",
    "            tid = lcs[8].split(\"transcript_id \\\"\",1)[1].split(\"\\\"\",1)[0]\n",
    "            if tid in rrna_tids_chs:\n",
    "                continue\n",
    "            else:\n",
    "                outFP.write(line)\n",
    "\n",
    "    # next add the rRNAs from the reference assigning new IDs in the process\n",
    "    with open(refseq_gtf,\"r\") as inFP:\n",
    "        for line in inFP:\n",
    "            lcs = line.split(\"\\t\")\n",
    "            if not len(lcs) == 9:\n",
    "                continue\n",
    "    \n",
    "            tid = lcs[8].split(\"transcript_id \\\"\",1)[1].split(\"\\\"\",1)[0]\n",
    "            \n",
    "            if tid in rrna_tids_ref:\n",
    "                assert tid in tidmap\n",
    "                new_gid, new_tid = tidmap[tid]\n",
    "            else:\n",
    "                continue\n",
    "\n",
    "            # write things out\n",
    "            attrs = definitions.extract_attributes(lcs[8])\n",
    "            if lcs[2] == \"transcript\":\n",
    "                gid = lcs[8].split(\"gene_id \\\"\",1)[1].split(\"\\\"\",1)[0]\n",
    "                attrs[\"rrna_og_tid\"] = tid\n",
    "                attrs[\"rrna_og_gid\"] = gid\n",
    "                assert \"gene_id\" in attrs\n",
    "\n",
    "            assert \"transcript_id\" in attrs\n",
    "            attrs[\"transcript_id\"] = \"CHS.\"+str(new_gid)+\".\"+str(new_tid)\n",
    "\n",
    "            if \"gene_id\" in attrs:\n",
    "                attrs[\"gene_id\"] = \"CHS.\"+str(new_gid)\n",
    "            \n",
    "            res_line = \"\\t\".join(lcs[:-1]) + \"\\t\" + definitions.to_attribute_string(attrs, False, lcs[2])\n",
    "            outFP.write(res_line+\"\\n\")"
   ]
  },
  {
   "cell_type": "code",
   "execution_count": 10,
   "id": "afa5ab77-7620-4dc5-9ba5-10b22ea25254",
   "metadata": {},
   "outputs": [
    {
     "name": "stdout",
     "output_type": "stream",
     "text": [
      "/ccb/salz8-1/avaraby/chess_maintenance_scripts/tmp/chess3.1.1.CHM13.fix_rRNA.gtf\n"
     ]
    }
   ],
   "source": [
    "print(os.path.abspath(outbase+\".gtf\"))"
   ]
  },
  {
   "cell_type": "code",
   "execution_count": null,
   "id": "033838dd-0a16-4f0c-81c6-230c5419b8de",
   "metadata": {},
   "outputs": [],
   "source": [
    "# manually edit the two rRNA on chrM to assign new transcript and gene IDs in CHESS format\n",
    "# match CHSID to GRCh38 (CHS.60410.1,CHS.60412.1)"
   ]
  }
 ],
 "metadata": {
  "kernelspec": {
   "display_name": "Python 3 (ipykernel)",
   "language": "python",
   "name": "python3"
  },
  "language_info": {
   "codemirror_mode": {
    "name": "ipython",
    "version": 3
   },
   "file_extension": ".py",
   "mimetype": "text/x-python",
   "name": "python",
   "nbconvert_exporter": "python",
   "pygments_lexer": "ipython3",
   "version": "3.11.7"
  }
 },
 "nbformat": 4,
 "nbformat_minor": 5
}
