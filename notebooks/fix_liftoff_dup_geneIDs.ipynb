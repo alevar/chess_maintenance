{
 "cells": [
  {
   "cell_type": "code",
   "execution_count": null,
   "id": "e199da1d-8ed3-4eed-938d-8a442af13f08",
   "metadata": {},
   "outputs": [],
   "source": [
    "# liftoff correctly handles asignment of IDs to transcripts in duplicated genes by appending \"_#\" to the end of the transcript\n",
    "# however, for genes this fails and geneID remains the same for all duplciates\n",
    "# this notebook fixes the issues by:\n",
    "# 1. find all transcripts associated with duplicated genes\n",
    "# 2. figure out which ones are gene duplicates\n",
    "# 3. assign new gene ID and move liftoff geneIDs over to the aux attributes"
   ]
  },
  {
   "cell_type": "code",
   "execution_count": 1,
   "id": "a7977f70-0afd-4c38-b3a5-d1a3c2cdc3c8",
   "metadata": {},
   "outputs": [],
   "source": [
    "# main imports\n",
    "import os\n",
    "import sys\n",
    "import csv\n",
    "import glob\n",
    "import math\n",
    "import shutil\n",
    "import random\n",
    "import importlib\n",
    "import subprocess\n",
    "\n",
    "import numpy as np\n",
    "import pandas as pd\n",
    "\n",
    "pd.set_option('display.max_columns', None)\n",
    "pd.set_option('display.max_colwidth', 50)"
   ]
  },
  {
   "cell_type": "code",
   "execution_count": 2,
   "id": "be7f68cc-bc18-49ba-adc1-8666d859e99f",
   "metadata": {},
   "outputs": [],
   "source": [
    "%load_ext autoreload\n",
    "%autoreload 1\n",
    "\n",
    "sys.path.insert(0, \"/ccb/salz4-4/avaraby/orfanage/soft\")\n",
    "%aimport definitions"
   ]
  },
  {
   "cell_type": "code",
   "execution_count": 4,
   "id": "412b4c73-6743-4c38-a1dc-65fdd2bffa3e",
   "metadata": {},
   "outputs": [],
   "source": [
    "# data\n",
    "ref_fasta = \"/home/avaraby1/genomes/human/hg38/hg38_p12_ucsc.fa\"\n",
    "input_gtf = \"../data/chess_github_clone/chess3.0.1.CHM13.gtf\"\n",
    "outbase = \"../tmp/chess3.0.1.CHM13.fix_dup_gid\"\n",
    "\n",
    "is_gff = definitions.gtf_or_gff(input_gtf)==\"gff\""
   ]
  },
  {
   "cell_type": "code",
   "execution_count": 5,
   "id": "0acf999e-bb63-4823-ab67-75e944f59ee0",
   "metadata": {},
   "outputs": [
    {
     "data": {
      "text/html": [
       "<div>\n",
       "<style scoped>\n",
       "    .dataframe tbody tr th:only-of-type {\n",
       "        vertical-align: middle;\n",
       "    }\n",
       "\n",
       "    .dataframe tbody tr th {\n",
       "        vertical-align: top;\n",
       "    }\n",
       "\n",
       "    .dataframe thead th {\n",
       "        text-align: right;\n",
       "    }\n",
       "</style>\n",
       "<table border=\"1\" class=\"dataframe\">\n",
       "  <thead>\n",
       "    <tr style=\"text-align: right;\">\n",
       "      <th></th>\n",
       "      <th>tid</th>\n",
       "      <th>copy_num_id</th>\n",
       "      <th>gene_id</th>\n",
       "    </tr>\n",
       "  </thead>\n",
       "  <tbody>\n",
       "    <tr>\n",
       "      <th>0</th>\n",
       "      <td>CHS.23663.3_2</td>\n",
       "      <td>CHS.23663_2</td>\n",
       "      <td>CHS.23663</td>\n",
       "    </tr>\n",
       "    <tr>\n",
       "      <th>1</th>\n",
       "      <td>CHS.139257.1</td>\n",
       "      <td>CHS.139257_0</td>\n",
       "      <td>CHS.139257</td>\n",
       "    </tr>\n",
       "    <tr>\n",
       "      <th>2</th>\n",
       "      <td>CHS.19.5</td>\n",
       "      <td>CHS.19_0</td>\n",
       "      <td>CHS.19</td>\n",
       "    </tr>\n",
       "    <tr>\n",
       "      <th>3</th>\n",
       "      <td>CHS.170756.1_3</td>\n",
       "      <td>CHS.170756_3</td>\n",
       "      <td>CHS.170756</td>\n",
       "    </tr>\n",
       "    <tr>\n",
       "      <th>4</th>\n",
       "      <td>CHS.144080.1</td>\n",
       "      <td>CHS.144080_0</td>\n",
       "      <td>CHS.144080</td>\n",
       "    </tr>\n",
       "  </tbody>\n",
       "</table>\n",
       "</div>"
      ],
      "text/plain": [
       "              tid   copy_num_id     gene_id\n",
       "0   CHS.23663.3_2   CHS.23663_2   CHS.23663\n",
       "1    CHS.139257.1  CHS.139257_0  CHS.139257\n",
       "2        CHS.19.5      CHS.19_0      CHS.19\n",
       "3  CHS.170756.1_3  CHS.170756_3  CHS.170756\n",
       "4    CHS.144080.1  CHS.144080_0  CHS.144080"
      ]
     },
     "execution_count": 5,
     "metadata": {},
     "output_type": "execute_result"
    }
   ],
   "source": [
    "# load the \"copy_num_id\" attribute for all transcripts\n",
    "df = definitions.get_attribute(input_gtf,[\"copy_num_id\",\"gene_id\"])\n",
    "df.head()"
   ]
  },
  {
   "cell_type": "code",
   "execution_count": 33,
   "id": "2f2cb216-af2e-49a5-9efe-632a9db3db11",
   "metadata": {},
   "outputs": [
    {
     "data": {
      "text/plain": [
       "176298"
      ]
     },
     "execution_count": 33,
     "metadata": {},
     "output_type": "execute_result"
    }
   ],
   "source": [
    "# get maximum gene_id from the current annotation\n",
    "max_gid = 0\n",
    "with open(input_gtf,\"r\") as inFP:\n",
    "    for line in inFP:\n",
    "        lcs = line.split(\"\\t\")\n",
    "        if not len(lcs) == 9:\n",
    "            continue\n",
    "\n",
    "        if not lcs[2]==\"transcript\":\n",
    "            continue\n",
    "\n",
    "        tid = lcs[8].split(\"transcript_id \\\"\",1)[1].split(\"\\\"\",1)[0]\n",
    "        try:\n",
    "            gid = int(tid.split(\".\")[1])\n",
    "            max_gid = max(max_gid,gid)\n",
    "        except:\n",
    "            continue\n",
    "max_gid"
   ]
  },
  {
   "cell_type": "code",
   "execution_count": 34,
   "id": "2e028688-c5ed-4880-91ab-e321eb8a40a7",
   "metadata": {},
   "outputs": [
    {
     "data": {
      "text/plain": [
       "0         None\n",
       "1         None\n",
       "2         None\n",
       "3         None\n",
       "4         None\n",
       "          ... \n",
       "162375    None\n",
       "162376    None\n",
       "162377    None\n",
       "162378    None\n",
       "162379    None\n",
       "Length: 162380, dtype: object"
      ]
     },
     "execution_count": 34,
     "metadata": {},
     "output_type": "execute_result"
    }
   ],
   "source": [
    "# assign new gene and transcript ids for each of the duplicate genes\n",
    "\n",
    "def is_int(s):\n",
    "    if \"_\" in s:\n",
    "        return False\n",
    "    try:\n",
    "        float(s)\n",
    "        return True\n",
    "    except ValueError:\n",
    "        return False\n",
    "\n",
    "def is_chess_tid(tid):\n",
    "    # returns true if complies with the chess format\n",
    "    try:\n",
    "        parts = tid.split(\".\")\n",
    "        if len(parts)==3 and parts[0][:3]==\"CHS\" and is_int(parts[1]) and is_int(parts[2]):\n",
    "            return True\n",
    "        else:\n",
    "            return False\n",
    "    except:\n",
    "        return False\n",
    "\n",
    "\n",
    "cpn_dict = dict() # keeps track of gid/copynumber to new gid assignment\n",
    "def assign_ids(row, idmap):\n",
    "    global max_gid  # Declare max_gid as global to modify the global variable\n",
    "    global cpn_dict\n",
    "    # given a dictionary of transcript and gene ids and a new transcript\n",
    "    # figure assign an ID to it\n",
    "\n",
    "    # first check if its in the chess format or not\n",
    "    if is_chess_tid(row[\"tid\"]):  # just add to the dicts\n",
    "        gid = row[\"tid\"].rsplit(\".\",1)[0]\n",
    "        assert gid == row[\"gene_id\"], \"incompatible gene_ids: \" + gid + \" : \" + row[\"gene_id\"]\n",
    "        idmap[row[\"tid\"]] = (row[\"tid\"], row[\"gene_id\"])\n",
    "    else:\n",
    "        if row[\"tid\"][:3] == \"CHS\":  # is likely a gene copy\n",
    "            idnum = int(row[\"copy_num_id\"].rsplit(\"_\",1)[-1])\n",
    "            gid = row[\"copy_num_id\"].rsplit(\"_\",1)[0]\n",
    "            if idnum == 0:\n",
    "                assert row[\"tid\"].rsplit(\".\",1)[0] == gid == row[\"gene_id\"], \"incompatible gene_ids: \" + row[\"tid\"].rsplit(\".\",1)[0] + \" : \" + gid + \" : \" + row[\"gene_id\"]\n",
    "                tid_num = int(row[\"tid\"].rsplit(\"_\",1)[0].rsplit(\".\",1)[-1])\n",
    "                new_gid = gid\n",
    "                new_tid = new_gid + \".\" + str(tid_num)\n",
    "                idmap[row[\"tid\"]] = (row[\"tid\"], row[\"gene_id\"])\n",
    "            else:  # is copy\n",
    "                assert \"_\" in row[\"tid\"], \"copy tid without _: \" + row[\"tid\"]\n",
    "                # first check if already in the map - if so, use the assigned ID\n",
    "                if not row[\"copy_num_id\"] in cpn_dict:\n",
    "                    max_gid += 1\n",
    "                    cpn_dict[row[\"copy_num_id\"]] = max_gid\n",
    "                    \n",
    "                new_gid_num = cpn_dict[row[\"copy_num_id\"]]                    \n",
    "                tid_num = int(row[\"tid\"].rsplit(\"_\",1)[0].rsplit(\".\",1)[-1])\n",
    "                new_gid = \"CHS.\" + str(new_gid_num)\n",
    "                new_tid = new_gid + \".\" + str(tid_num)\n",
    "                idmap[row[\"tid\"]] = (new_tid, new_gid)\n",
    "        else:  # is something else - just leave it as is\n",
    "            idmap[row[\"tid\"]] = (row[\"tid\"], row[\"gene_id\"])\n",
    "\n",
    "idmap = dict()\n",
    "df.apply(lambda row: assign_ids(row, idmap), axis=1)"
   ]
  },
  {
   "cell_type": "code",
   "execution_count": 37,
   "id": "87a04e51-3d4f-40ad-9bb0-696356f53420",
   "metadata": {},
   "outputs": [],
   "source": [
    "# now iterate over the GTF and write out the conversion\n",
    "\n",
    "with open(outbase+\".gtf\",\"w+\") as outFP:\n",
    "    with open(input_gtf,\"r\") as inFP:\n",
    "        for line in inFP:\n",
    "            lcs = line.split(\"\\t\")\n",
    "            if not len(lcs) == 9:\n",
    "                continue\n",
    "\n",
    "            if not lcs[2] in [\"transcript\",\"exon\",\"CDS\"]:\n",
    "                continue\n",
    "            \n",
    "    \n",
    "            tid = lcs[8].split(\"transcript_id \\\"\",1)[1].split(\"\\\"\",1)[0]\n",
    "            assert tid in idmap,\"unknown tid: \"+tid\n",
    "\n",
    "            new_tid, new_gid = idmap[tid]\n",
    "\n",
    "            attrs = definitions.extract_attributes(lcs[8])\n",
    "\n",
    "            if lcs[2] == \"transcript\":\n",
    "                attrs[\"liftoff_tid\"] = tid\n",
    "                attrs[\"liftoff_gid\"] = attrs[\"gene_id\"]\n",
    "                assert \"gene_id\" in attrs\n",
    "\n",
    "            assert \"transcript_id\" in attrs\n",
    "            attrs[\"transcript_id\"] = new_tid\n",
    "\n",
    "            if \"gene_id\" in attrs:\n",
    "                attrs[\"gene_id\"] = new_gid\n",
    "            \n",
    "            res_line = \"\\t\".join(lcs[:-1]) + \"\\t\" + definitions.to_attribute_string(attrs, False, lcs[2])\n",
    "            outFP.write(res_line+\"\\n\")"
   ]
  },
  {
   "cell_type": "code",
   "execution_count": 58,
   "id": "397a61eb-ebb8-47f5-812d-2032756c4a5a",
   "metadata": {},
   "outputs": [
    {
     "data": {
      "text/plain": [
       "'/ccb/salz8-1/avaraby/chess_maintenance_scripts/tmp/chess3.0.1.CHM13.fix_dup_gid.gtf'"
      ]
     },
     "execution_count": 58,
     "metadata": {},
     "output_type": "execute_result"
    }
   ],
   "source": [
    "os.path.abspath(outbase+\".gtf\")"
   ]
  },
  {
   "cell_type": "code",
   "execution_count": null,
   "id": "867427ca-082f-4f14-bad7-d1e6658f034c",
   "metadata": {},
   "outputs": [],
   "source": []
  }
 ],
 "metadata": {
  "kernelspec": {
   "display_name": "Python 3 (ipykernel)",
   "language": "python",
   "name": "python3"
  },
  "language_info": {
   "codemirror_mode": {
    "name": "ipython",
    "version": 3
   },
   "file_extension": ".py",
   "mimetype": "text/x-python",
   "name": "python",
   "nbconvert_exporter": "python",
   "pygments_lexer": "ipython3",
   "version": "3.11.7"
  }
 },
 "nbformat": 4,
 "nbformat_minor": 5
}
